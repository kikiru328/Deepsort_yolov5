{
 "cells": [
  {
   "cell_type": "code",
   "execution_count": 32,
   "metadata": {},
   "outputs": [],
   "source": [
    "count_web_1 = 0\n",
    "order_index_web_1 = 0\n",
    "data_web_1 = []\n",
    "\n",
    "# list_ = [count_web_1, order_index_web_1, data_web_1])_str_list = ['count_web_1','order_index_web_1','data_web_1']\n",
    "str_list = ['count_web_1','order_index_web_1','data_web_1']"
   ]
  },
  {
   "cell_type": "code",
   "execution_count": 35,
   "metadata": {},
   "outputs": [
    {
     "ename": "AttributeError",
     "evalue": "'int' object has no attribute 'append'",
     "output_type": "error",
     "traceback": [
      "\u001b[1;31m---------------------------------------------------------------------------\u001b[0m",
      "\u001b[1;31mAttributeError\u001b[0m                            Traceback (most recent call last)",
      "Cell \u001b[1;32mIn [35], line 8\u001b[0m\n\u001b[0;32m      6\u001b[0m         \u001b[39mglobals\u001b[39m()[i] \u001b[39m+\u001b[39m\u001b[39m=\u001b[39m \u001b[39m10\u001b[39m\n\u001b[0;32m      7\u001b[0m \u001b[39melse\u001b[39;00m:\n\u001b[1;32m----> 8\u001b[0m     \u001b[39mglobals\u001b[39;49m()[i]\u001b[39m.\u001b[39;49mappend(\u001b[39m'\u001b[39m\u001b[39mis that true\u001b[39m\u001b[39m'\u001b[39m)\n\u001b[0;32m      9\u001b[0m \u001b[39mprint\u001b[39m(\u001b[39mglobals\u001b[39m()[i])\n",
      "\u001b[1;31mAttributeError\u001b[0m: 'int' object has no attribute 'append'"
     ]
    }
   ],
   "source": [
    "for i in str_list:\n",
    "\n",
    "    if (type(globals()[i]) is int) and (globals()[i] == str_list[0]): \n",
    "        globals()[i] += 1\n",
    "    elif (type(globals()[i]) is int) and (globals()[i] == str_list[1]):\n",
    "            globals()[i] += 10\n",
    "    else:\n",
    "        globals()[i].append('is that true')\n",
    "    print(globals()[i])\n"
   ]
  },
  {
   "cell_type": "code",
   "execution_count": 24,
   "metadata": {},
   "outputs": [
    {
     "data": {
      "text/plain": [
       "1"
      ]
     },
     "execution_count": 24,
     "metadata": {},
     "output_type": "execute_result"
    }
   ],
   "source": [
    "count_web_1"
   ]
  },
  {
   "cell_type": "code",
   "execution_count": 25,
   "metadata": {},
   "outputs": [
    {
     "data": {
      "text/plain": [
       "1"
      ]
     },
     "execution_count": 25,
     "metadata": {},
     "output_type": "execute_result"
    }
   ],
   "source": [
    "order_index_web_1"
   ]
  },
  {
   "cell_type": "code",
   "execution_count": 26,
   "metadata": {},
   "outputs": [
    {
     "data": {
      "text/plain": [
       "['is that true']"
      ]
     },
     "execution_count": 26,
     "metadata": {},
     "output_type": "execute_result"
    }
   ],
   "source": [
    "data_web_1"
   ]
  },
  {
   "cell_type": "code",
   "execution_count": 27,
   "metadata": {},
   "outputs": [
    {
     "name": "stdout",
     "output_type": "stream",
     "text": [
      "a='1111'\n",
      "a\n"
     ]
    }
   ],
   "source": [
    "a = '1111'\n",
    "result = f'{a=}'\n",
    "print(result)\n",
    "var_name = f'{a=}'.split('=')[0]\n",
    "print(var_name)"
   ]
  },
  {
   "cell_type": "code",
   "execution_count": 18,
   "metadata": {},
   "outputs": [
    {
     "ename": "SyntaxError",
     "evalue": "invalid syntax (3850603608.py, line 1)",
     "output_type": "error",
     "traceback": [
      "\u001b[1;36m  Cell \u001b[1;32mIn [18], line 1\u001b[1;36m\u001b[0m\n\u001b[1;33m    from varname.helpers\u001b[0m\n\u001b[1;37m                        ^\u001b[0m\n\u001b[1;31mSyntaxError\u001b[0m\u001b[1;31m:\u001b[0m invalid syntax\n"
     ]
    }
   ],
   "source": []
  },
  {
   "cell_type": "code",
   "execution_count": null,
   "metadata": {},
   "outputs": [],
   "source": []
  }
 ],
 "metadata": {
  "kernelspec": {
   "display_name": "Python 3.8.10 ('deepsort')",
   "language": "python",
   "name": "python3"
  },
  "language_info": {
   "codemirror_mode": {
    "name": "ipython",
    "version": 3
   },
   "file_extension": ".py",
   "mimetype": "text/x-python",
   "name": "python",
   "nbconvert_exporter": "python",
   "pygments_lexer": "ipython3",
   "version": "3.8.10"
  },
  "orig_nbformat": 4,
  "vscode": {
   "interpreter": {
    "hash": "e78de210e7575e94624b32da5800555f62f0fa1ccd4a917360c22a2eaf29507e"
   }
  }
 },
 "nbformat": 4,
 "nbformat_minor": 2
}
