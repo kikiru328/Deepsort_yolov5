{
 "cells": [
  {
   "cell_type": "code",
   "execution_count": 1,
   "metadata": {},
   "outputs": [],
   "source": [
    "file_path = './test.xlsx'\n",
    "sheet_name = '요청사항표-새벽배송'"
   ]
  },
  {
   "cell_type": "code",
   "execution_count": 4,
   "metadata": {},
   "outputs": [
    {
     "name": "stderr",
     "output_type": "stream",
     "text": [
      "YOLOv5  2022-11-3 Python-3.8.10 torch-1.13.0 CUDA:0 (NVIDIA GeForce RTX 3080 Ti, 12288MiB)\n",
      "\n",
      "YOLOv5  2022-11-3 Python-3.8.10 torch-1.13.0 CUDA:0 (NVIDIA GeForce RTX 3080 Ti, 12288MiB)\n",
      "\n",
      "Fusing layers... \n",
      "Fusing layers... \n",
      "YOLOv5m summary: 290 layers, 21172173 parameters, 0 gradients\n",
      "YOLOv5m summary: 290 layers, 21172173 parameters, 0 gradients\n",
      "1/1: 0...  Success (inf frames 640x480 at 30.00 FPS)\n",
      "1/1: 0...  Success (inf frames 640x480 at 30.00 FPS)\n",
      "\n",
      "\n"
     ]
    },
    {
     "name": "stdout",
     "output_type": "stream",
     "text": [
      "Successfully loaded pretrained weights from \"D:\\workspace\\agp\\weights\\osnet_x0_25_msmt17.pt\"\n",
      "** The following layers are discarded due to unmatched keys or layer size: ['classifier.weight', 'classifier.bias']\n"
     ]
    },
    {
     "ename": "KeyboardInterrupt",
     "evalue": "",
     "output_type": "error",
     "traceback": [
      "\u001b[1;31m---------------------------------------------------------------------------\u001b[0m",
      "\u001b[1;31mKeyboardInterrupt\u001b[0m                         Traceback (most recent call last)",
      "Cell \u001b[1;32mIn [4], line 20\u001b[0m\n\u001b[0;32m     18\u001b[0m     sys\u001b[39m.\u001b[39mpath\u001b[39m.\u001b[39mappend(\u001b[39mstr\u001b[39m(ROOT \u001b[39m/\u001b[39m \u001b[39m'\u001b[39m\u001b[39mtrackers\u001b[39m\u001b[39m'\u001b[39m \u001b[39m/\u001b[39m \u001b[39m'\u001b[39m\u001b[39mstrong_sort\u001b[39m\u001b[39m'\u001b[39m \u001b[39m/\u001b[39m \u001b[39m'\u001b[39m\u001b[39mdeep\u001b[39m\u001b[39m'\u001b[39m \u001b[39m/\u001b[39m \u001b[39m'\u001b[39m\u001b[39mreid\u001b[39m\u001b[39m'\u001b[39m \u001b[39m/\u001b[39m \u001b[39m'\u001b[39m\u001b[39mtorchreid\u001b[39m\u001b[39m'\u001b[39m))  \u001b[39m# add strong_sort ROOT to PATH\u001b[39;00m\n\u001b[0;32m     19\u001b[0m ROOT \u001b[39m=\u001b[39m Path(os\u001b[39m.\u001b[39mpath\u001b[39m.\u001b[39mrelpath(ROOT, Path\u001b[39m.\u001b[39mcwd()))  \u001b[39m# relative\u001b[39;00m\n\u001b[1;32m---> 20\u001b[0m track_for_test_copy\u001b[39m.\u001b[39;49mrun(\n\u001b[0;32m     21\u001b[0m     source \u001b[39m=\u001b[39;49m \u001b[39m'\u001b[39;49m\u001b[39m0\u001b[39;49m\u001b[39m'\u001b[39;49m,\n\u001b[0;32m     22\u001b[0m     yolo_weights\u001b[39m=\u001b[39;49mWEIGHTS \u001b[39m/\u001b[39;49m \u001b[39m'\u001b[39;49m\u001b[39myolov5m.pt\u001b[39;49m\u001b[39m'\u001b[39;49m,\n\u001b[0;32m     23\u001b[0m     reid_weights\u001b[39m=\u001b[39;49mWEIGHTS \u001b[39m/\u001b[39;49m \u001b[39m'\u001b[39;49m\u001b[39mosnet_x0_25_msmt17.pt\u001b[39;49m\u001b[39m'\u001b[39;49m,\n\u001b[0;32m     24\u001b[0m     tracking_method\u001b[39m=\u001b[39;49m\u001b[39m'\u001b[39;49m\u001b[39mstrongsort\u001b[39;49m\u001b[39m'\u001b[39;49m,\n\u001b[0;32m     25\u001b[0m     imgsz\u001b[39m=\u001b[39;49m(\u001b[39m640\u001b[39;49m, \u001b[39m640\u001b[39;49m),  \u001b[39m# inference size (height, width)\u001b[39;49;00m\n\u001b[0;32m     26\u001b[0m     conf_thres\u001b[39m=\u001b[39;49m\u001b[39m0.25\u001b[39;49m,  \u001b[39m# confidence threshold\u001b[39;49;00m\n\u001b[0;32m     27\u001b[0m     iou_thres\u001b[39m=\u001b[39;49m\u001b[39m0.45\u001b[39;49m,  \u001b[39m# NMS IOU threshold\u001b[39;49;00m\n\u001b[0;32m     28\u001b[0m     max_det\u001b[39m=\u001b[39;49m\u001b[39m1000\u001b[39;49m,  \u001b[39m# maximum detections per image\u001b[39;49;00m\n\u001b[0;32m     29\u001b[0m     device\u001b[39m=\u001b[39;49m\u001b[39m'\u001b[39;49m\u001b[39m'\u001b[39;49m,  \u001b[39m# cuda device, i.e. 0 or 0,1,2,3 or cpu\u001b[39;49;00m\n\u001b[0;32m     30\u001b[0m     show_vid\u001b[39m=\u001b[39;49m\u001b[39mTrue\u001b[39;49;00m,  \u001b[39m# show results\u001b[39;49;00m\n\u001b[0;32m     31\u001b[0m     save_txt\u001b[39m=\u001b[39;49m\u001b[39mFalse\u001b[39;49;00m,  \u001b[39m# save results to *.txt\u001b[39;49;00m\n\u001b[0;32m     32\u001b[0m     save_conf\u001b[39m=\u001b[39;49m\u001b[39mFalse\u001b[39;49;00m,  \u001b[39m# save confidences in --save-txt labels\u001b[39;49;00m\n\u001b[0;32m     33\u001b[0m     save_crop\u001b[39m=\u001b[39;49m\u001b[39mFalse\u001b[39;49;00m,  \u001b[39m# save cropped prediction boxes\u001b[39;49;00m\n\u001b[0;32m     34\u001b[0m     save_vid\u001b[39m=\u001b[39;49m\u001b[39mFalse\u001b[39;49;00m,  \u001b[39m# save confidences in --save-txt labels\u001b[39;49;00m\n\u001b[0;32m     35\u001b[0m     nosave\u001b[39m=\u001b[39;49m\u001b[39mFalse\u001b[39;49;00m,  \u001b[39m# do not save images/videos\u001b[39;49;00m\n\u001b[0;32m     36\u001b[0m     classes\u001b[39m=\u001b[39;49m\u001b[39mNone\u001b[39;49;00m,  \u001b[39m# filter by class: --class 0, or --class 0 2 3\u001b[39;49;00m\n\u001b[0;32m     37\u001b[0m     agnostic_nms\u001b[39m=\u001b[39;49m\u001b[39mFalse\u001b[39;49;00m,  \u001b[39m# class-agnostic NMS\u001b[39;49;00m\n\u001b[0;32m     38\u001b[0m     augment\u001b[39m=\u001b[39;49m\u001b[39mFalse\u001b[39;49;00m,  \u001b[39m# augmented inference\u001b[39;49;00m\n\u001b[0;32m     39\u001b[0m     visualize\u001b[39m=\u001b[39;49m\u001b[39mFalse\u001b[39;49;00m,  \u001b[39m# visualize features\u001b[39;49;00m\n\u001b[0;32m     40\u001b[0m     update\u001b[39m=\u001b[39;49m\u001b[39mFalse\u001b[39;49;00m,  \u001b[39m# update all models\u001b[39;49;00m\n\u001b[0;32m     41\u001b[0m     project\u001b[39m=\u001b[39;49m\u001b[39m'\u001b[39;49m\u001b[39m./runs/track\u001b[39;49m\u001b[39m'\u001b[39;49m,\n\u001b[0;32m     42\u001b[0m     name\u001b[39m=\u001b[39;49m\u001b[39m'\u001b[39;49m\u001b[39mexp\u001b[39;49m\u001b[39m'\u001b[39;49m,  \u001b[39m# save results to project/name\u001b[39;49;00m\n\u001b[0;32m     43\u001b[0m     exist_ok\u001b[39m=\u001b[39;49m\u001b[39mFalse\u001b[39;49;00m,  \u001b[39m# existing project/name ok, do not increment\u001b[39;49;00m\n\u001b[0;32m     44\u001b[0m     line_thickness\u001b[39m=\u001b[39;49m\u001b[39m2\u001b[39;49m,  \u001b[39m# bounding box thickness (pixels)\u001b[39;49;00m\n\u001b[0;32m     45\u001b[0m     hide_labels\u001b[39m=\u001b[39;49m\u001b[39mFalse\u001b[39;49;00m,  \u001b[39m# hide labels\u001b[39;49;00m\n\u001b[0;32m     46\u001b[0m     hide_conf\u001b[39m=\u001b[39;49m\u001b[39mFalse\u001b[39;49;00m,  \u001b[39m# hide confidences\u001b[39;49;00m\n\u001b[0;32m     47\u001b[0m     hide_class\u001b[39m=\u001b[39;49m\u001b[39mFalse\u001b[39;49;00m,  \u001b[39m# hide IDs\u001b[39;49;00m\n\u001b[0;32m     48\u001b[0m     half\u001b[39m=\u001b[39;49m\u001b[39mFalse\u001b[39;49;00m,  \u001b[39m# use FP16 half-precision inference\u001b[39;49;00m\n\u001b[0;32m     49\u001b[0m     dnn\u001b[39m=\u001b[39;49m\u001b[39mFalse\u001b[39;49;00m,  \u001b[39m# use OpenCV DNN for ONNX inference\u001b[39;49;00m\n\u001b[0;32m     50\u001b[0m     \u001b[39meval\u001b[39;49m\u001b[39m=\u001b[39;49m\u001b[39mFalse\u001b[39;49;00m,  \u001b[39m# run multi-gpu eval,\u001b[39;49;00m\n\u001b[0;32m     51\u001b[0m     file_path\u001b[39m=\u001b[39;49mfile_path,\n\u001b[0;32m     52\u001b[0m     sheet_name\u001b[39m=\u001b[39;49msheet_name    \n\u001b[0;32m     53\u001b[0m )\n",
      "File \u001b[1;32mc:\\Users\\kikir\\anaconda3\\envs\\deepsort\\lib\\site-packages\\torch\\autograd\\grad_mode.py:27\u001b[0m, in \u001b[0;36m_DecoratorContextManager.__call__.<locals>.decorate_context\u001b[1;34m(*args, **kwargs)\u001b[0m\n\u001b[0;32m     24\u001b[0m \u001b[39m@functools\u001b[39m\u001b[39m.\u001b[39mwraps(func)\n\u001b[0;32m     25\u001b[0m \u001b[39mdef\u001b[39;00m \u001b[39mdecorate_context\u001b[39m(\u001b[39m*\u001b[39margs, \u001b[39m*\u001b[39m\u001b[39m*\u001b[39mkwargs):\n\u001b[0;32m     26\u001b[0m     \u001b[39mwith\u001b[39;00m \u001b[39mself\u001b[39m\u001b[39m.\u001b[39mclone():\n\u001b[1;32m---> 27\u001b[0m         \u001b[39mreturn\u001b[39;00m func(\u001b[39m*\u001b[39;49margs, \u001b[39m*\u001b[39;49m\u001b[39m*\u001b[39;49mkwargs)\n",
      "File \u001b[1;32md:\\workspace\\agp\\Deepsort_yolov5\\track_for_test_copy.py:196\u001b[0m, in \u001b[0;36mrun\u001b[1;34m(source, yolo_weights, reid_weights, tracking_method, imgsz, conf_thres, iou_thres, max_det, device, show_vid, save_txt, save_conf, save_crop, save_vid, nosave, classes, agnostic_nms, augment, visualize, update, project, name, exist_ok, line_thickness, hide_labels, hide_conf, hide_class, half, dnn, eval, file_path, sheet_name)\u001b[0m\n\u001b[0;32m    194\u001b[0m \u001b[39mif\u001b[39;00m i \u001b[39m==\u001b[39m \u001b[39m0\u001b[39m:\n\u001b[0;32m    195\u001b[0m     \u001b[39mtry\u001b[39;00m:\n\u001b[1;32m--> 196\u001b[0m         im0, save_dir, save_path, txt_file_name \u001b[39m=\u001b[39m webcam1(webcam, path, im, im0s, dataset, s, save_dir, source, curr_frames, line_thickness,save_crop, i, det, names, outputs, tracker_list,dt,t3,t2,tracking_method,save_txt, frame_idx, save_vid, show_vid, hide_labels, hide_conf, hide_class)\n\u001b[0;32m    197\u001b[0m     \u001b[39mexcept\u001b[39;00m \u001b[39mException\u001b[39;00m \u001b[39mas\u001b[39;00m e:\n\u001b[0;32m    198\u001b[0m         \u001b[39mprint\u001b[39m(e)\n",
      "File \u001b[1;32md:\\workspace\\agp\\Deepsort_yolov5\\track_for_test_copy.py:732\u001b[0m, in \u001b[0;36mwebcam1\u001b[1;34m(webcam, path, im, im0s, dataset, s, save_dir, source, curr_frames, line_thickness, save_crop, i, det, names, outputs, tracker_list, dt, t3, t2, tracking_method, save_txt, frame_idx, save_vid, show_vid, hide_labels, hide_conf, hide_class)\u001b[0m\n\u001b[0;32m    729\u001b[0m \u001b[39mtry\u001b[39;00m:\n\u001b[0;32m    730\u001b[0m     p, im, im0, s, txt_file_name, save_path, txt_path, imc, annotator \u001b[39m=\u001b[39m webcam_start_function(webcam,path, im, im0s, dataset,s, save_dir, source, curr_frames,line_thickness,save_crop,i)\n\u001b[1;32m--> 732\u001b[0m     im0, count_web_1, order_index_web_1, step_count_web_1 \u001b[39m=\u001b[39m Count\u001b[39m.\u001b[39;49mcount_1_function(det, im, s, im0, names, outputs, tracker_list, dt, i, t3,t2,tracking_method,annotator, save_txt, txt_path,frame_idx, save_vid, save_crop, show_vid, hide_labels, hide_conf, hide_class, path, imc, save_dir, p)\n\u001b[0;32m    734\u001b[0m     add_image \u001b[39m=\u001b[39m toping_draw_function(im0 \u001b[39m=\u001b[39m im0, count \u001b[39m=\u001b[39m count_web_1, order_index \u001b[39m=\u001b[39m order_index_web_1, step_count \u001b[39m=\u001b[39m step_count_web_1)\n\u001b[0;32m    735\u001b[0m \u001b[39mexcept\u001b[39;00m \u001b[39mException\u001b[39;00m \u001b[39mas\u001b[39;00m e:\n\u001b[0;32m    736\u001b[0m     \u001b[39m# print(f'{str(e):#^20}')\u001b[39;00m\n",
      "File \u001b[1;32md:\\workspace\\agp\\Deepsort_yolov5\\track_for_test_copy.py:352\u001b[0m, in \u001b[0;36mCount.count_1_function\u001b[1;34m(det, im, s, im0, names, outputs, tracker_list, dt, i, t3, t2, tracking_method, annotator, save_txt, txt_path, frame_idx, save_vid, save_crop, show_vid, hide_labels, hide_conf, hide_class, path, imc, save_dir, p)\u001b[0m\n\u001b[0;32m    350\u001b[0m     s \u001b[39m+\u001b[39m\u001b[39m=\u001b[39m \u001b[39mf\u001b[39m\u001b[39m\"\u001b[39m\u001b[39m{\u001b[39;00mn\u001b[39m}\u001b[39;00m\u001b[39m \u001b[39m\u001b[39m{\u001b[39;00mnames[\u001b[39mint\u001b[39m(c)]\u001b[39m}\u001b[39;00m\u001b[39m{\u001b[39;00m\u001b[39m'\u001b[39m\u001b[39ms\u001b[39m\u001b[39m'\u001b[39m \u001b[39m*\u001b[39m (n \u001b[39m>\u001b[39m \u001b[39m1\u001b[39m)\u001b[39m}\u001b[39;00m\u001b[39m, \u001b[39m\u001b[39m\"\u001b[39m\n\u001b[0;32m    351\u001b[0m t4 \u001b[39m=\u001b[39m time_sync()\n\u001b[1;32m--> 352\u001b[0m outputs[i] \u001b[39m=\u001b[39m tracker_list[i]\u001b[39m.\u001b[39;49mupdate(det\u001b[39m.\u001b[39;49mcpu(), im0)\n\u001b[0;32m    353\u001b[0m t5 \u001b[39m=\u001b[39m time_sync()\n\u001b[0;32m    354\u001b[0m dt[\u001b[39m3\u001b[39m] \u001b[39m+\u001b[39m\u001b[39m=\u001b[39m t5 \u001b[39m-\u001b[39m t4\n",
      "File \u001b[1;32md:\\workspace\\agp\\Deepsort_yolov5\\trackers\\strong_sort\\strong_sort.py:62\u001b[0m, in \u001b[0;36mStrongSORT.update\u001b[1;34m(self, dets, ori_img)\u001b[0m\n\u001b[0;32m     60\u001b[0m \u001b[39m# update tracker\u001b[39;00m\n\u001b[0;32m     61\u001b[0m \u001b[39mself\u001b[39m\u001b[39m.\u001b[39mtracker\u001b[39m.\u001b[39mpredict()\n\u001b[1;32m---> 62\u001b[0m \u001b[39mself\u001b[39;49m\u001b[39m.\u001b[39;49mtracker\u001b[39m.\u001b[39;49mupdate(detections, clss, confs)\n\u001b[0;32m     64\u001b[0m \u001b[39m# output bbox identities\u001b[39;00m\n\u001b[0;32m     65\u001b[0m outputs \u001b[39m=\u001b[39m []\n",
      "File \u001b[1;32mD:\\workspace\\agp\\Deepsort_yolov5\\trackers\\strong_sort\\sort\\tracker.py:83\u001b[0m, in \u001b[0;36mTracker.update\u001b[1;34m(self, detections, classes, confidences)\u001b[0m\n\u001b[0;32m     81\u001b[0m \u001b[39m# Update track set.\u001b[39;00m\n\u001b[0;32m     82\u001b[0m \u001b[39mfor\u001b[39;00m track_idx, detection_idx \u001b[39min\u001b[39;00m matches:\n\u001b[1;32m---> 83\u001b[0m     \u001b[39mself\u001b[39;49m\u001b[39m.\u001b[39;49mtracks[track_idx]\u001b[39m.\u001b[39;49mupdate(\n\u001b[0;32m     84\u001b[0m         detections[detection_idx], classes[detection_idx], confidences[detection_idx])\n\u001b[0;32m     85\u001b[0m \u001b[39mfor\u001b[39;00m track_idx \u001b[39min\u001b[39;00m unmatched_tracks:\n\u001b[0;32m     86\u001b[0m     \u001b[39mself\u001b[39m\u001b[39m.\u001b[39mtracks[track_idx]\u001b[39m.\u001b[39mmark_missed()\n",
      "File \u001b[1;32mD:\\workspace\\agp\\Deepsort_yolov5\\trackers\\strong_sort\\sort\\track.py:275\u001b[0m, in \u001b[0;36mTrack.update\u001b[1;34m(self, detection, class_id, conf)\u001b[0m\n\u001b[0;32m    272\u001b[0m \u001b[39mself\u001b[39m\u001b[39m.\u001b[39mclass_id \u001b[39m=\u001b[39m class_id\u001b[39m.\u001b[39mint()\n\u001b[0;32m    273\u001b[0m \u001b[39mself\u001b[39m\u001b[39m.\u001b[39mmean, \u001b[39mself\u001b[39m\u001b[39m.\u001b[39mcovariance \u001b[39m=\u001b[39m \u001b[39mself\u001b[39m\u001b[39m.\u001b[39mkf\u001b[39m.\u001b[39mupdate(\u001b[39mself\u001b[39m\u001b[39m.\u001b[39mmean, \u001b[39mself\u001b[39m\u001b[39m.\u001b[39mcovariance, detection\u001b[39m.\u001b[39mto_xyah(), detection\u001b[39m.\u001b[39mconfidence)\n\u001b[1;32m--> 275\u001b[0m feature \u001b[39m=\u001b[39m detection\u001b[39m.\u001b[39;49mfeature \u001b[39m/\u001b[39;49m np\u001b[39m.\u001b[39;49mlinalg\u001b[39m.\u001b[39;49mnorm(detection\u001b[39m.\u001b[39;49mfeature)\n\u001b[0;32m    277\u001b[0m smooth_feat \u001b[39m=\u001b[39m \u001b[39mself\u001b[39m\u001b[39m.\u001b[39mema_alpha \u001b[39m*\u001b[39m \u001b[39mself\u001b[39m\u001b[39m.\u001b[39mfeatures[\u001b[39m-\u001b[39m\u001b[39m1\u001b[39m] \u001b[39m+\u001b[39m (\u001b[39m1\u001b[39m \u001b[39m-\u001b[39m \u001b[39mself\u001b[39m\u001b[39m.\u001b[39mema_alpha) \u001b[39m*\u001b[39m feature\n\u001b[0;32m    278\u001b[0m smooth_feat \u001b[39m/\u001b[39m\u001b[39m=\u001b[39m np\u001b[39m.\u001b[39mlinalg\u001b[39m.\u001b[39mnorm(smooth_feat)\n",
      "\u001b[1;31mKeyboardInterrupt\u001b[0m: "
     ]
    }
   ],
   "source": [
    "import track_for_test_copy\n",
    "from pathlib import Path\n",
    "import sys\n",
    "import os\n",
    "FILE = Path(os.getcwd()).resolve()\n",
    "ROOT = FILE.parents[0] \n",
    "# ROOT = os.getcwd()\n",
    "WEIGHTS = ROOT / 'weights'\n",
    "if str(ROOT) not in sys.path:\n",
    "    sys.path.append(str(ROOT))  # add ROOT to PATH\n",
    "if str(ROOT / 'yolov5') not in sys.path:\n",
    "    sys.path.append(str(ROOT / 'yolov5'))  # add yolov5 ROOT to PATH\n",
    "if str(ROOT / 'trackers' / 'strong_sort') not in sys.path:\n",
    "    sys.path.append(str(ROOT / 'trackers' / 'strong_sort'))  # add strong_sort ROOT to PATH\n",
    "if str(ROOT / 'trackers' / 'ocsort') not in sys.path:\n",
    "    sys.path.append(str(ROOT / 'trackers' / 'ocsort'))  # add strong_sort ROOT to PATH\n",
    "if str(ROOT / 'trackers' / 'strong_sort' / 'deep' / 'reid' / 'torchreid') not in sys.path:\n",
    "    sys.path.append(str(ROOT / 'trackers' / 'strong_sort' / 'deep' / 'reid' / 'torchreid'))  # add strong_sort ROOT to PATH\n",
    "ROOT = Path(os.path.relpath(ROOT, Path.cwd()))  # relative\n",
    "track_for_test_copy.run(\n",
    "    source = '0',\n",
    "    yolo_weights=WEIGHTS / 'yolov5m.pt',\n",
    "    reid_weights=WEIGHTS / 'osnet_x0_25_msmt17.pt',\n",
    "    tracking_method='strongsort',\n",
    "    imgsz=(640, 640),  # inference size (height, width)\n",
    "    conf_thres=0.25,  # confidence threshold\n",
    "    iou_thres=0.45,  # NMS IOU threshold\n",
    "    max_det=1000,  # maximum detections per image\n",
    "    device='',  # cuda device, i.e. 0 or 0,1,2,3 or cpu\n",
    "    show_vid=True,  # show results\n",
    "    save_txt=False,  # save results to *.txt\n",
    "    save_conf=False,  # save confidences in --save-txt labels\n",
    "    save_crop=False,  # save cropped prediction boxes\n",
    "    save_vid=False,  # save confidences in --save-txt labels\n",
    "    nosave=False,  # do not save images/videos\n",
    "    classes=None,  # filter by class: --class 0, or --class 0 2 3\n",
    "    agnostic_nms=False,  # class-agnostic NMS\n",
    "    augment=False,  # augmented inference\n",
    "    visualize=False,  # visualize features\n",
    "    update=False,  # update all models\n",
    "    project='./runs/track',\n",
    "    name='exp',  # save results to project/name\n",
    "    exist_ok=False,  # existing project/name ok, do not increment\n",
    "    line_thickness=2,  # bounding box thickness (pixels)\n",
    "    hide_labels=False,  # hide labels\n",
    "    hide_conf=False,  # hide confidences\n",
    "    hide_class=False,  # hide IDs\n",
    "    half=False,  # use FP16 half-precision inference\n",
    "    dnn=False,  # use OpenCV DNN for ONNX inference\n",
    "    eval=False,  # run multi-gpu eval,\n",
    "    file_path=file_path,\n",
    "    sheet_name=sheet_name    \n",
    ")"
   ]
  },
  {
   "cell_type": "code",
   "execution_count": null,
   "metadata": {},
   "outputs": [],
   "source": []
  }
 ],
 "metadata": {
  "kernelspec": {
   "display_name": "Python 3.8.10 ('deepsort')",
   "language": "python",
   "name": "python3"
  },
  "language_info": {
   "codemirror_mode": {
    "name": "ipython",
    "version": 3
   },
   "file_extension": ".py",
   "mimetype": "text/x-python",
   "name": "python",
   "nbconvert_exporter": "python",
   "pygments_lexer": "ipython3",
   "version": "3.8.10"
  },
  "orig_nbformat": 4,
  "vscode": {
   "interpreter": {
    "hash": "e78de210e7575e94624b32da5800555f62f0fa1ccd4a917360c22a2eaf29507e"
   }
  }
 },
 "nbformat": 4,
 "nbformat_minor": 2
}
